{
 "cells": [
  {
   "cell_type": "markdown",
   "metadata": {},
   "source": [
    "# Forecasting Currency Price & Volume with DeepAR\n",
    "## Setup & Admin\n",
    "This notebook is only used for setup and configuration of the environments. If your not runnning the labe, you shouldnt execute any of the code below!\n",
    "\n",
    "#### Settings"
   ]
  },
  {
   "cell_type": "code",
   "execution_count": null,
   "metadata": {},
   "outputs": [],
   "source": [
    "region = 'ap-southeast-2'\n",
    "user_start = 2\n",
    "n_users = 10\n",
    "\n",
    "InstanceType = 'ml.t2.medium'\n",
    "VolumeSizeInGB=5\n",
    "DefaultCodeRepository = 'https://github.com/glyfnet/lab_sagemaker_deepar_forex.git'\n",
    "RoleArn='arn:aws:iam::013615763154:role/NotebookServiceRole'\n",
    "\n",
    "'''\n",
    "Available Instance Types may vary by region:\n",
    "'ml.t2.medium'|'ml.t2.large'|'ml.t2.xlarge'|'ml.t2.2xlarge'|\n",
    "'ml.t3.medium'|'ml.t3.large'|'ml.t3.xlarge'|'ml.t3.2xlarge'|\n",
    "'ml.m4.xlarge'|'ml.m4.2xlarge'|'ml.m4.4xlarge'|'ml.m4.10xlarge'|'ml.m4.16xlarge'|\n",
    "'ml.m5.xlarge'|'ml.m5.2xlarge'|'ml.m5.4xlarge'|'ml.m5.12xlarge'|'ml.m5.24xlarge'|\n",
    "'ml.c4.xlarge'|'ml.c4.2xlarge'|'ml.c4.4xlarge'|'ml.c4.8xlarge'|\n",
    "'ml.c5.xlarge'|'ml.c5.2xlarge'|'ml.c5.4xlarge'|'ml.c5.9xlarge'|'ml.c5.18xlarge'|\n",
    "'ml.c5d.xlarge'|'ml.c5d.2xlarge'|'ml.c5d.4xlarge'|'ml.c5d.9xlarge'|'ml.c5d.18xlarge'|\n",
    "'ml.p2.xlarge'|'ml.p2.8xlarge'|'ml.p2.16xlarge'|\n",
    "'ml.p3.2xlarge'|'ml.p3.8xlarge'|'ml.p3.16xlarge'\n",
    "'''"
   ]
  },
  {
   "cell_type": "markdown",
   "metadata": {},
   "source": [
    "#### Imports and Config"
   ]
  },
  {
   "cell_type": "code",
   "execution_count": null,
   "metadata": {},
   "outputs": [],
   "source": [
    "import boto3\n",
    "sgm = boto3.client('sagemaker', region)"
   ]
  },
  {
   "cell_type": "markdown",
   "metadata": {},
   "source": [
    "#### Create Notebooks"
   ]
  },
  {
   "cell_type": "code",
   "execution_count": 5,
   "metadata": {},
   "outputs": [
    {
     "name": "stdout",
     "output_type": "stream",
     "text": [
      "{'NotebookInstanceArn': 'arn:aws:sagemaker:ap-southeast-2:013615763154:notebook-instance/lab2', 'ResponseMetadata': {'RequestId': '47b063c8-df8d-42f1-81f3-d75fb06cfc10', 'HTTPStatusCode': 200, 'HTTPHeaders': {'x-amzn-requestid': '47b063c8-df8d-42f1-81f3-d75fb06cfc10', 'content-type': 'application/x-amz-json-1.1', 'content-length': '94', 'date': 'Wed, 06 Feb 2019 23:36:55 GMT'}, 'RetryAttempts': 0}}\n"
     ]
    }
   ],
   "source": [
    "# create notebooks\n",
    "for user_id in range(user_start,user_start+n_users):\n",
    "    user_name = 'lab{}'.format(user_id)\n",
    "    \n",
    "    response = sgm.create_notebook_instance(\n",
    "        NotebookInstanceName=user_name,\n",
    "        InstanceType=InstanceType,\n",
    "        RoleArn=RoleArn,\n",
    "        DirectInternetAccess='Enabled',\n",
    "        VolumeSizeInGB=VolumeSizeInGB,\n",
    "        DefaultCodeRepository=DefaultCodeRepository,\n",
    "    )\n",
    "    \n",
    "    print(response)"
   ]
  }
 ],
 "metadata": {
  "kernelspec": {
   "display_name": "conda_python3",
   "language": "python",
   "name": "conda_python3"
  },
  "language_info": {
   "codemirror_mode": {
    "name": "ipython",
    "version": 3
   },
   "file_extension": ".py",
   "mimetype": "text/x-python",
   "name": "python",
   "nbconvert_exporter": "python",
   "pygments_lexer": "ipython3",
   "version": "3.6.5"
  }
 },
 "nbformat": 4,
 "nbformat_minor": 2
}
